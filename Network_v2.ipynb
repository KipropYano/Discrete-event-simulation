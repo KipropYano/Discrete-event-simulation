{
  "cells": [
    {
      "cell_type": "markdown",
      "id": "59fec8ab-0734-4b1b-af31-bca0884cd8c2",
      "metadata": {
        "id": "59fec8ab-0734-4b1b-af31-bca0884cd8c2",
        "tags": []
      },
      "source": [
        "## Global imports\n",
        "\n",
        "Write your imports here so you don't have to write imports below."
      ]
    },
    {
      "cell_type": "code",
      "execution_count": 1,
      "id": "8ab98770-ea96-49d8-aa0b-b5331c0f956b",
      "metadata": {
        "colab": {
          "base_uri": "https://localhost:8080/"
        },
        "id": "8ab98770-ea96-49d8-aa0b-b5331c0f956b",
        "outputId": "3d9bbb43-0f80-48fa-f72f-e94a7b7adfb3"
      },
      "outputs": [
        {
          "name": "stdout",
          "output_type": "stream",
          "text": [
            "Collecting simpy\n",
            "  Downloading simpy-4.0.1-py2.py3-none-any.whl (29 kB)\n",
            "Installing collected packages: simpy\n",
            "Successfully installed simpy-4.0.1\n"
          ]
        }
      ],
      "source": [
        "!pip install simpy\n",
        "import simpy as sp\n",
        "import numpy as np\n",
        "from typing import List, Tuple\n",
        "import random\n",
        "from typing import Callable\n",
        "import scipy\n",
        "from scipy.optimize import minimize_scalar"
      ]
    },
    {
      "cell_type": "markdown",
      "id": "27ddd42c-b8bf-48af-8771-882074bd5f1e",
      "metadata": {
        "id": "27ddd42c-b8bf-48af-8771-882074bd5f1e",
        "tags": []
      },
      "source": [
        "## Problem 1\n",
        "\n",
        "**Write and discuss the steps to answering the following research question:** We would like to design a [network packet](https://en.wikipedia.org/wiki/Network_packet) routing system. To do so, we will need to define the system and run a simulation so that we can generate data that will be used for optimization of design parameters. Our router will be a bit of a simpler system, so do not worry about any specifics you know about ethernet or telecommunications in general.  The goal of our router is that it will route packets from devices connected to it through to the internet.\n",
        "\n",
        "We'll parameterize our router so that it can accept $\\alpha$ packet routing connections at any time. Assume that packets take $\\beta$ time to be routed through the router. Let's say that each device connected to the router is only willing to wait up to $\\gamma$ time for the packet to be routed to its destination.  \n",
        "\n",
        "Let's also say that our system will allow for prioritization on three levels, so that we can make sure those high-priority packets like those for voice and video calls can route through before lower-priority packets like standard file downloads.  \n",
        "\n",
        "To model our system, let's say that we have $n$ devices on our network connected to the router.  Each device generates $X_v$ videocalling packets, $X_s$ standard priority packets, and $X_l$ low priority packets at an $X_i$ interval time between each packet submitted to the router.  So, say that this device has a total of $X_v + X_s + X_l$ packets.  I would recommend that you shuffle this set of packets.  This device would submit the first of these packets (in any order) to the router at time 0.  The device would then wait $X_i$ before submitting the next packet (which again can be any of those in this device's collection), and again until the total number of packets has been submitted to the router.\n",
        "\n",
        "Higher priority packets will not preempt lower priority packets, but they will be able to jump the queue (`simpy.PriorityResource`).\n",
        "\n",
        "Based on the distributions for the parameters below, what is the average number of packets that make it through the router to the internet, for $n$ = [3, 5, 10, 15]?  All time-related parameters below are in milliseconds. Make sure to set the random seed.\n",
        "- $\\alpha$ = 6\n",
        "- $\\beta$ = exponentially-modified normal continuous random variable at location 1 and scale 1.5\n",
        "- $\\gamma$ = 3\n",
        "- $X_v$ = uniform discrete random variable between [2,10]\n",
        "- $X_s$ = uniform discrete random variable between [2,10]\n",
        "- $X_l$ = uniform discrete random variable between [2,10]\n",
        "- $X_i$ = binomial discrete random variable with n at 10 and p at 0.5"
      ]
    },
    {
      "cell_type": "code",
      "execution_count": 2,
      "id": "82007497-4102-4a58-86f8-7cd9d24bc124",
      "metadata": {
        "id": "82007497-4102-4a58-86f8-7cd9d24bc124"
      },
      "outputs": [],
      "source": [
        "ω= 0\n",
        "RANDOM_SEED = 15\n",
        "number_of_devices = 6\n",
        "gamma = 3\n",
        "min_beta = 1\n",
        "max_beta = 1.5"
      ]
    },
    {
      "cell_type": "code",
      "execution_count": 3,
      "id": "66f49168-1188-4307-ae23-1a1486980ebc",
      "metadata": {
        "id": "66f49168-1188-4307-ae23-1a1486980ebc"
      },
      "outputs": [],
      "source": [
        "def network(env, number, interval, proc_inc, the_rng):\n",
        "  for i in range(number):\n",
        "    p = packet(env, 'Packets %02d' % i, proc_inc, 15.0, the_rng)\n",
        "    env.process(p)\n",
        "    t = the_rng.exponential(interval)\n",
        "    yield env.timeout(t)"
      ]
    },
    {
      "cell_type": "code",
      "execution_count": 4,
      "id": "dd2c16b4-8815-4415-abb9-ec0771d235f6",
      "metadata": {
        "id": "dd2c16b4-8815-4415-abb9-ec0771d235f6"
      },
      "outputs": [],
      "source": [
        "def packet(env, name, proc_inc, time_in_bank, the_rng):\n",
        "  \"\"\"α time, β time and γ time.\"\"\"\n",
        "  packet_list=['Xv','Xs','Xl','Xi']\n",
        "  router_list=['ethernet','telecommunications']\n",
        "  random_router = random.choice(router_list)\n",
        "  random_packet = random.choice(packet_list)\n",
        "  arrive = env.now\n",
        "  print(random_packet+' at α %7.2f, %s β' % (arrive, name))\n",
        "  with proc_inc.request() as req:\n",
        "    router = the_rng.uniform(min_beta, max_beta)\n",
        "    results = yield req | env.timeout(router)\n",
        "    wait = env.now - arrive \n",
        "    if req in results:\n",
        "      print('at time %7.2f, %s γ %6.2f' % (env.now, name, wait))\n",
        "      tib = the_rng.exponential(time_in_bank)\n",
        "      yield env.timeout(tib)\n",
        "      print('at time %7.2f, %s finished their β at router device %random_router' % (env.now, name, random_router))\n",
        "    else:\n",
        "        print('at time %7.2f, %s left the line after waiting %6.2f minutes' % (env.now, name, wait))"
      ]
    },
    {
      "cell_type": "code",
      "execution_count": 5,
      "id": "31168506-40ad-48d6-9c4f-3b20d37034ec",
      "metadata": {
        "colab": {
          "base_uri": "https://localhost:8080/"
        },
        "id": "31168506-40ad-48d6-9c4f-3b20d37034ec",
        "outputId": "a3cc96d0-145e-4d92-cae3-96a99b609282"
      },
      "outputs": [
        {
          "name": "stdout",
          "output_type": "stream",
          "text": [
            "SIMULATION:  average number of packets that make it through the router to the internet (time units are minutes)\n",
            "Xv at α    0.00, Packets 00 β\n",
            "at time    0.00, Packets 00 γ   0.00\n",
            "at time    4.35, Packets 00 finished their β at router device 'ethernet'andom_router\n",
            "Xi at α    7.50, Packets 01 β\n",
            "at time    7.50, Packets 01 γ   0.00\n",
            "Xs at α    7.62, Packets 02 β\n",
            "at time    8.80, Packets 02 left the line after waiting   1.17 minutes\n",
            "Xs at α    9.72, Packets 03 β\n",
            "Xi at α   10.93, Packets 04 β\n",
            "at time   11.14, Packets 01 finished their β at router device 'ethernet'andom_router\n",
            "at time   11.14, Packets 03 γ   1.42\n",
            "at time   12.35, Packets 04 left the line after waiting   1.42 minutes\n",
            "at time   14.60, Packets 03 finished their β at router device 'ethernet'andom_router\n",
            "Xi at α   14.70, Packets 05 β\n",
            "at time   14.70, Packets 05 γ   0.00\n",
            "at time   40.89, Packets 05 finished their β at router device 'ethernet'andom_router\n"
          ]
        }
      ],
      "source": [
        "# Setup and start the simulation\n",
        "print('SIMULATION:  average number of packets that make it through the router to the internet (time units are minutes)')\n",
        "the_rng = np.random.default_rng(RANDOM_SEED)\n",
        "env = sp.Environment()\n",
        "# Start processes and run\n",
        "proc_inc = sp.Resource(env, capacity=1)\n",
        "env.process(network(env, number_of_devices, gamma, proc_inc, the_rng))\n",
        "env.run()"
      ]
    },
    {
      "cell_type": "code",
      "execution_count": 6,
      "id": "lfpiICaS5tSU",
      "metadata": {
        "id": "lfpiICaS5tSU"
      },
      "outputs": [],
      "source": [
        "def network_with_priorities(env, number_of_devices, interval, proc_inc, the_rng):\n",
        "  for i in range(number_of_devices):\n",
        "    p = packet_with_priorities(env, 'Packets %02d' % i, proc_inc, 15.0, the_rng)\n",
        "    priority = np.round(rng.beta(10, 2)).astype(int)\n",
        "    env.process(p, priority)\n",
        "    t = the_rng.exponential(interval)\n",
        "    yield env.timeout(t)\n",
        "def packet_with_priorities(env, name, proc_inc, time_in_bank, the_rng):\n",
        "  \"\"\"α time, β time and γ time.\"\"\"\n",
        "  packet_list=['Xv','Xs','Xl','Xi']\n",
        "  router_list=['ethernet','telecommunications']\n",
        "  random_router = random.choice(router_list)\n",
        "  random_packet = random.choice(packet_list)\n",
        "  arrive = env.now\n",
        "  print(random_packet+' at α %7.2f, %s β' % (arrive, name))\n",
        "  with proc_inc.request(priority=packet_priority) as packet_spot:\n",
        "    router = the_rng.uniform(min_beta, max_beta)\n",
        "    results = yield packet_spot | env.timeout(router)\n",
        "    wait = env.now - arrive \n",
        "    if req in results:\n",
        "      print('at time %7.2f, %s γ %6.2f' % (env.now, name, wait))\n",
        "      tib = the_rng.exponential(time_in_bank)\n",
        "      yield env.timeout(tib)\n",
        "      print('at time %7.2f, %s finished their β at router device %random_router' % (env.now, name, random_router))\n",
        "    else:\n",
        "        print('at time %7.2f, %s left the line after waiting %6.2f minutes' % (env.now, name, wait))"
      ]
    },
    {
      "cell_type": "code",
      "execution_count": 7,
      "id": "vMomI0bb7HQI",
      "metadata": {
        "id": "vMomI0bb7HQI"
      },
      "outputs": [],
      "source": [
        "the_rng = np.random.default_rng(RANDOM_SEED)\n",
        "the_env = sp.Environment()\n",
        "proc_inc = sp.PriorityResource(the_env, capacity=1)\n",
        "network_with_priorities(env, number_of_devices, gamma, proc_inc, the_rng)\n",
        "the_env.run()"
      ]
    },
    {
      "cell_type": "code",
      "execution_count": 7,
      "id": "djPT-0hi2Xlf",
      "metadata": {
        "id": "djPT-0hi2Xlf"
      },
      "outputs": [],
      "source": []
    },
    {
      "cell_type": "markdown",
      "id": "f8db30c6-8539-4e8d-a2dc-5c0f7786321a",
      "metadata": {
        "id": "f8db30c6-8539-4e8d-a2dc-5c0f7786321a",
        "tags": []
      },
      "source": [
        "## Problem 2\n",
        "\n",
        "**Write and discuss the steps to answering the following research question:** Create a function that will automatically run the simulation above, introducing a new constraint named $\\omega$, which is the length of time the router is willing to dedicate to routing a packet.  Thus, you will need to modify Problem 1 so that $\\omega$ is incorporated as another wait time that will interrupt the packet routing.\n",
        "\n",
        "Then, we would like to see how $\\omega$ affects the number of packets that successfully route through. Make sure that the function sets the same random seed inside the function, so that your simulation parameters are consistent across runs. \n",
        "\n",
        "Using `scipy.optimize.minimize_scalar()` ([see reference](https://docs.scipy.org/doc/scipy/reference/generated/scipy.optimize.minimize_scalar.html#scipy.optimize.minimize_scalar)), what is the value of $\\omega$ (router processing time allocated) that results in the highest number of packets that successfully route through our router design, where $2 \\le \\omega \\le 10$?"
      ]
    },
    {
      "cell_type": "code",
      "execution_count": 8,
      "id": "a188aac9-d9d4-499e-b8f6-9163afc05af4",
      "metadata": {
        "colab": {
          "base_uri": "https://localhost:8080/"
        },
        "id": "a188aac9-d9d4-499e-b8f6-9163afc05af4",
        "outputId": "29795b0f-571f-432d-8f5e-45f1f3ba1bf8"
      },
      "outputs": [
        {
          "name": "stdout",
          "output_type": "stream",
          "text": [
            "Xv at α    0.00, Packets 00 β\n",
            "at time    0.00, Packets 00 γ   0.00\n",
            "at time    4.35, Packets 00 finished their β at router device 'ethernet'andom_router\n",
            "Xs at α    7.50, Packets 01 β\n",
            "at time    7.50, Packets 01 γ   0.00\n",
            "Xl at α    7.62, Packets 02 β\n",
            "at time    8.80, Packets 02 left the line after waiting   1.17 minutes\n",
            "Xv at α    9.72, Packets 03 β\n",
            "Xv at α   10.93, Packets 04 β\n",
            "at time   11.14, Packets 01 finished their β at router device 'ethernet'andom_router\n",
            "at time   11.14, Packets 03 γ   1.42\n",
            "at time   12.35, Packets 04 left the line after waiting   1.42 minutes\n",
            "at time   14.60, Packets 03 finished their β at router device 'ethernet'andom_router\n",
            "Xv at α   14.70, Packets 05 β\n",
            "at time   14.70, Packets 05 γ   0.00\n",
            "at time   40.89, Packets 05 finished their β at router device 'ethernet'andom_router\n",
            "length of time the router is willing to dedicate to routing a packet 6\n"
          ]
        }
      ],
      "source": [
        "def Optimzer():  \n",
        "  def network(env, number, interval, proc_inc, the_rng):\n",
        "    for i in range(alpha):\n",
        "      o = scipy.optimize.minimize_scalar(packet, bounds=opt_bounds, args=(env, 'Packets %02d' % i, proc_inc, 12.0, the_rng))\n",
        "      env.process(o)\n",
        "      t = the_rng.exponential(interval)\n",
        "      yield env.timeout(t)\n",
        "      #yield env.timeout(t)\n",
        "  def packet(env, name, proc_inc, time_in_bank, the_rng):\n",
        "    \"\"\"α time, β time and γ time.\"\"\"\n",
        "    packet_list=['Xv','Xs','Xl','Xi']\n",
        "    router_list=['ethernet','telecommunications']\n",
        "    random_router = random.choice(router_list)\n",
        "    random_packet = random.choice(packet_list)\n",
        "    arrive = env.now\n",
        "    print(random_packet+' at α %7.2f, %s β' % (arrive, name))\n",
        "    \n",
        "    #print(\"here,\", w)\n",
        "    with proc_inc.request() as req:\n",
        "       \n",
        "      router = the_rng.uniform(min_beta, max_beta)\n",
        "      results = yield req | env.timeout(router)\n",
        "      wait = env.now - arrive \n",
        "      if req in results:\n",
        "        print('at time %7.2f, %s γ %6.2f' % (env.now, name, wait))\n",
        "        tib = the_rng.exponential(time_in_bank)\n",
        "\n",
        "        yield env.timeout(tib)\n",
        "        print('at time %7.2f, %s finished their β at router device %random_router' % (env.now, name, random_router))\n",
        "\n",
        "      else:\n",
        "        print('at time %7.2f, %s left the line after waiting %6.2f minutes' % (env.now, name, wait))\n",
        "\n",
        "the_rng = np.random.default_rng(RANDOM_SEED)\n",
        "env = sp.Environment()\n",
        "# Start processes and run\n",
        "proc_inc = sp.Resource(env, capacity=1)\n",
        "env.process(network(env, number_of_devices, gamma, proc_inc, the_rng))\n",
        "try:\n",
        "  env.run()\n",
        "  print(\"length of time the router is willing to dedicate to routing a packet\", number_of_devices)\n",
        "except:\n",
        "  print(\"An exception occurred\")"
      ]
    },
    {
      "cell_type": "code",
      "execution_count": 8,
      "id": "POQJT7aHt7-M",
      "metadata": {
        "id": "POQJT7aHt7-M"
      },
      "outputs": [],
      "source": []
    }
  ],
  "metadata": {
    "colab": {
      "name": "Network.ipynb",
      "provenance": []
    },
    "kernelspec": {
      "display_name": "Python 3 (ipykernel)",
      "language": "python",
      "name": "python3"
    },
    "language_info": {
      "codemirror_mode": {
        "name": "ipython",
        "version": 3
      },
      "file_extension": ".py",
      "mimetype": "text/x-python",
      "name": "python",
      "nbconvert_exporter": "python",
      "pygments_lexer": "ipython3",
      "version": "3.9.7"
    }
  },
  "nbformat": 4,
  "nbformat_minor": 5
}
